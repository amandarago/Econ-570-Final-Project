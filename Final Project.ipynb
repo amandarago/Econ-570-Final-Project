{
 "cells": [
  {
   "cell_type": "markdown",
   "id": "48c32779",
   "metadata": {},
   "source": [
    "# Introduction"
   ]
  },
  {
   "cell_type": "markdown",
   "id": "a81deb3d",
   "metadata": {},
   "source": [
    "Research question: What factors play a significant role in cancer death rates? \n",
    "I would assume by now that nearly every single person knows someone close to them that has been affected by cancer. Cancer research is something that has been going on for an extremely long time, but to no avail for a cure. It is a horrible disease that is incredibly painful for those with it. It's quite obvious as to why cancer research is important. \n"
   ]
  },
  {
   "cell_type": "markdown",
   "id": "67e31ab6",
   "metadata": {},
   "source": [
    "The Data:\n",
    "I found the data used through the sources the Professor included in the assignment; specifically, it is from data world. The creator of the data sourced it through cancer.gov, clinicaltrials.gov, and census.gov. \n",
    "The edits I made to the data was I removed all of the rows that had empty cells in them because this was effecting my attempts at using WLS. I did not remove any outliers and am not doing any sampling restrictions. I am planning to just utilize the variables in the data and see how they interact with the dependent variable in the regression. Also, I did not append other data sets because the one I am using is quite extensive to begin with, and in itself is created from multiple different government sources. "
   ]
  },
  {
   "cell_type": "markdown",
   "id": "a06bd5a4",
   "metadata": {},
   "source": [
    "#### Definitions of variables"
   ]
  },
  {
   "cell_type": "markdown",
   "id": "465ed195",
   "metadata": {},
   "source": [
    "TARGET_deathRate: Dependent variable. Mean per capita (100,000) cancer mortalities(a)\n",
    "\n",
    "avgAnnCount: Mean number of reported cases of cancer diagnosed annually(a)\n",
    "\n",
    "avgDeathsPerYear: Mean number of reported mortalities due to cancer(a)\n",
    "\n",
    "incidenceRate: Mean per capita (100,000) cancer diagoses(a)\n",
    "\n",
    "medianIncome: Median income per county (b)\n",
    "\n",
    "popEst2015: Population of county (b)\n",
    "\n",
    "povertyPercent: Percent of populace in poverty (b)\n",
    "\n",
    "studyPerCap: Per capita number of cancer-related clinical trials per county (a)\n",
    "\n",
    "binnedInc: Median income per capita binned by decile (b)\n",
    "\n",
    "MedianAge: Median age of county residents (b)\n",
    "\n",
    "MedianAgeMale: Median age of male county residents (b)\n",
    "\n",
    "MedianAgeFemale: Median age of female county residents (b)\n",
    "\n",
    "Geography: County name (b)\n",
    "\n",
    "AvgHouseholdSize: Mean household size of county (b)\n",
    "\n",
    "PercentMarried: Percent of county residents who are married (b)\n",
    "\n",
    "PctNoHS18_24: Percent of county residents ages 18-24 highest education attained: less than high school (b)\n",
    "\n",
    "PctHS18_24: Percent of county residents ages 18-24 highest education attained: high school diploma (b)\n",
    "\n",
    "PctSomeCol18_24: Percent of county residents ages 18-24 highest education attained: some college (b)\n",
    "\n",
    "PctBachDeg18_24: Percent of county residents ages 18-24 highest education attained: bachelor's degree (b)\n",
    "\n",
    "PctHS25_Over: Percent of county residents ages 25 and over highest education attained: high school diploma (b)\n",
    "\n",
    "PctBachDeg25_Over: Percent of county residents ages 25 and over highest education attained: bachelor's degree (b)\n",
    "\n",
    "PctEmployed16_Over: Percent of county residents ages 16 and over employed (b)\n",
    "\n",
    "PctUnemployed16_Over: Percent of county residents ages 16 and over unemployed (b)\n",
    "\n",
    "PctPrivateCoverage: Percent of county residents with private health coverage (b)\n",
    "\n",
    "PctPrivateCoverageAlone: Percent of county residents with private health coverage alone (no public assistance) (b)\n",
    "\n",
    "PctEmpPrivCoverage: Percent of county residents with employee-provided private health coverage (b)\n",
    "\n",
    "PctPublicCoverage: Percent of county residents with government-provided health coverage (b)\n",
    "\n",
    "PctPubliceCoverageAlone: Percent of county residents with government-provided health coverage alone (b)\n",
    "\n",
    "PctWhite: Percent of county residents who identify as White (b)\n",
    "\n",
    "PctBlack: Percent of county residents who identify as Black (b)\n",
    "\n",
    "PctAsian: Percent of county residents who identify as Asian (b)\n",
    "\n",
    "PctOtherRace: Percent of county residents who identify in a category which is not White, Black, or Asian (b)\n",
    "\n",
    "PctMarriedHouseholds: Percent of married households (b)\n",
    "\n",
    "BirthRate: Number of live births relative to number of women in county (b)\n",
    "\n",
    "(a): years 2010-2016\n",
    "\n",
    "(b): 2013 Census Estimates"
   ]
  },
  {
   "cell_type": "markdown",
   "id": "b187bb16",
   "metadata": {},
   "source": [
    "Literature/Research: The data I gathered this from used it for regression analysis as well, so there is that in terms of previous work on the subject. While researching for other material on the matter of cancer death rate and ols regression, I came across this website https://www.rpubs.com/usnf002/ols_challenge where Steven Burnett actually used the same dataset I am. Burnett only used OLS for their model. The difference between mine and Burnett is that Burnett wanted to predict cancer mortality rates, whereas I am using OLS to identify factors that have the greatest effect on cancer mortality rate. I also want to note (although slightly irrelevant) that Burnett's work was done in R opposed to Python. \n",
    "More similar to my goals of findings was this paper by Shannon M. Stare and James J. Jozefowicz titled, \"The Effects of Environmental Factors on Cancer Prevalence Rates and Specific Cancer Mortality Rates in a Sample of OECD Developed Countries\". I say it is similar to mine only because they are looking at the regression results to interpret which factors of their model have a large effect on different types of cancer. Similar to me, they use OLS and WLS models. They extend their research beyond just general cancer rates, but specific environmental factors that are statistically significant for different types of cancer, which I found to be interesting. Their methods are well detailed and their results, in my opinion, are interpreted well. The link to their works is: http://conferencenow.info/yhsing/applied-economics-journals/ARCHIVE/ijae/index_files/IJAE%20SEPT%202008%20STARE%20JOZEFOWICZ%2010-24-08%20Cancer%20Paper%20-%20IJAE%20-%20Final.pdf"
   ]
  },
  {
   "cell_type": "code",
   "execution_count": 206,
   "id": "a022484b",
   "metadata": {},
   "outputs": [],
   "source": [
    "import csv\n",
    "import numpy as np\n",
    "import pandas as pd\n",
    "from pandas import read_csv\n",
    "import statsmodels.formula.api as sm\n",
    "import math"
   ]
  },
  {
   "cell_type": "markdown",
   "id": "74290eda",
   "metadata": {},
   "source": [
    "## Cancer Data"
   ]
  },
  {
   "cell_type": "markdown",
   "id": "ff32ba6f",
   "metadata": {},
   "source": [
    "Import csv"
   ]
  },
  {
   "cell_type": "code",
   "execution_count": 207,
   "id": "d3bfc543",
   "metadata": {
    "scrolled": true
   },
   "outputs": [],
   "source": [
    "data = pd.read_csv('cancer_reg.csv',encoding='latin-1')"
   ]
  },
  {
   "cell_type": "markdown",
   "id": "999b0398",
   "metadata": {},
   "source": [
    "removing empty rows from data"
   ]
  },
  {
   "cell_type": "code",
   "execution_count": 208,
   "id": "301aa616",
   "metadata": {
    "scrolled": true
   },
   "outputs": [
    {
     "data": {
      "text/plain": [
       "591"
      ]
     },
     "execution_count": 208,
     "metadata": {},
     "output_type": "execute_result"
    }
   ],
   "source": [
    "# see which columns have empty cells and how many\n",
    "#print(data.isnull().sum())\n",
    "myData = data.dropna()\n",
    "#Saving it to a new csv file \n",
    "myData.to_csv('myData.csv',index=False)\n",
    "# Check to see if it worked \n",
    "#print(myData.isnull().sum())\n",
    "myData=pd.read_csv('myData.csv')\n",
    "#myData.head()\n",
    "#len(myData)"
   ]
  },
  {
   "cell_type": "markdown",
   "id": "1b13c605",
   "metadata": {},
   "source": [
    "Reindexing the data"
   ]
  },
  {
   "cell_type": "code",
   "execution_count": 222,
   "id": "e224e4a9",
   "metadata": {},
   "outputs": [
    {
     "data": {
      "text/html": [
       "<div>\n",
       "<style scoped>\n",
       "    .dataframe tbody tr th:only-of-type {\n",
       "        vertical-align: middle;\n",
       "    }\n",
       "\n",
       "    .dataframe tbody tr th {\n",
       "        vertical-align: top;\n",
       "    }\n",
       "\n",
       "    .dataframe thead th {\n",
       "        text-align: right;\n",
       "    }\n",
       "</style>\n",
       "<table border=\"1\" class=\"dataframe\">\n",
       "  <thead>\n",
       "    <tr style=\"text-align: right;\">\n",
       "      <th></th>\n",
       "      <th>avgAnnCount</th>\n",
       "      <th>avgDeathsPerYear</th>\n",
       "      <th>TARGET_deathRate</th>\n",
       "      <th>incidenceRate</th>\n",
       "      <th>medIncome</th>\n",
       "      <th>popEst2015</th>\n",
       "      <th>povertyPercent</th>\n",
       "      <th>studyPerCap</th>\n",
       "      <th>binnedInc</th>\n",
       "      <th>MedianAge</th>\n",
       "      <th>...</th>\n",
       "      <th>wpovertyPercent</th>\n",
       "      <th>wstudyPerCap</th>\n",
       "      <th>wPctPrivateCoverage</th>\n",
       "      <th>wPctPrivateCoverageAlone</th>\n",
       "      <th>wPctEmpPrivCoverage</th>\n",
       "      <th>wPctPublicCoverage</th>\n",
       "      <th>wPctWhite_Square</th>\n",
       "      <th>wPctBlack_Cube</th>\n",
       "      <th>wPctAsian</th>\n",
       "      <th>wPctOtherRace</th>\n",
       "    </tr>\n",
       "  </thead>\n",
       "  <tbody>\n",
       "    <tr>\n",
       "      <th>0</th>\n",
       "      <td>173.000000</td>\n",
       "      <td>70</td>\n",
       "      <td>161.3</td>\n",
       "      <td>411.600000</td>\n",
       "      <td>48127</td>\n",
       "      <td>43269</td>\n",
       "      <td>18.6</td>\n",
       "      <td>23.111234</td>\n",
       "      <td>(48021.6, 51046.4]</td>\n",
       "      <td>33.0</td>\n",
       "      <td>...</td>\n",
       "      <td>1.531803</td>\n",
       "      <td>1.903326</td>\n",
       "      <td>5.781322</td>\n",
       "      <td>4.430700</td>\n",
       "      <td>3.590679</td>\n",
       "      <td>2.561241</td>\n",
       "      <td>655.688133</td>\n",
       "      <td>0.074955</td>\n",
       "      <td>0.184989</td>\n",
       "      <td>0.308119</td>\n",
       "    </tr>\n",
       "    <tr>\n",
       "      <th>1</th>\n",
       "      <td>427.000000</td>\n",
       "      <td>202</td>\n",
       "      <td>194.8</td>\n",
       "      <td>430.400000</td>\n",
       "      <td>44243</td>\n",
       "      <td>75882</td>\n",
       "      <td>17.1</td>\n",
       "      <td>342.637253</td>\n",
       "      <td>(42724.4, 45201]</td>\n",
       "      <td>42.8</td>\n",
       "      <td>...</td>\n",
       "      <td>1.549498</td>\n",
       "      <td>31.047700</td>\n",
       "      <td>5.291852</td>\n",
       "      <td>3.651740</td>\n",
       "      <td>3.171487</td>\n",
       "      <td>4.104810</td>\n",
       "      <td>762.705169</td>\n",
       "      <td>0.043437</td>\n",
       "      <td>0.105235</td>\n",
       "      <td>0.123474</td>\n",
       "    </tr>\n",
       "    <tr>\n",
       "      <th>2</th>\n",
       "      <td>57.000000</td>\n",
       "      <td>26</td>\n",
       "      <td>144.4</td>\n",
       "      <td>350.100000</td>\n",
       "      <td>49955</td>\n",
       "      <td>10321</td>\n",
       "      <td>12.5</td>\n",
       "      <td>0.000000</td>\n",
       "      <td>(48021.6, 51046.4]</td>\n",
       "      <td>48.3</td>\n",
       "      <td>...</td>\n",
       "      <td>1.033384</td>\n",
       "      <td>0.000000</td>\n",
       "      <td>5.092516</td>\n",
       "      <td>3.629245</td>\n",
       "      <td>2.901742</td>\n",
       "      <td>3.637512</td>\n",
       "      <td>732.096136</td>\n",
       "      <td>0.001631</td>\n",
       "      <td>0.055045</td>\n",
       "      <td>0.040685</td>\n",
       "    </tr>\n",
       "    <tr>\n",
       "      <th>3</th>\n",
       "      <td>146.000000</td>\n",
       "      <td>71</td>\n",
       "      <td>183.6</td>\n",
       "      <td>404.000000</td>\n",
       "      <td>40189</td>\n",
       "      <td>20848</td>\n",
       "      <td>17.8</td>\n",
       "      <td>0.000000</td>\n",
       "      <td>(37413.8, 40362.7]</td>\n",
       "      <td>51.7</td>\n",
       "      <td>...</td>\n",
       "      <td>1.330112</td>\n",
       "      <td>0.000000</td>\n",
       "      <td>4.169678</td>\n",
       "      <td>2.473411</td>\n",
       "      <td>1.935388</td>\n",
       "      <td>3.803523</td>\n",
       "      <td>597.321006</td>\n",
       "      <td>0.002123</td>\n",
       "      <td>0.141162</td>\n",
       "      <td>0.170842</td>\n",
       "    </tr>\n",
       "    <tr>\n",
       "      <th>4</th>\n",
       "      <td>2265.000000</td>\n",
       "      <td>901</td>\n",
       "      <td>171.0</td>\n",
       "      <td>440.700000</td>\n",
       "      <td>50083</td>\n",
       "      <td>490945</td>\n",
       "      <td>16.3</td>\n",
       "      <td>462.373586</td>\n",
       "      <td>(48021.6, 51046.4]</td>\n",
       "      <td>37.2</td>\n",
       "      <td>...</td>\n",
       "      <td>1.689127</td>\n",
       "      <td>47.914578</td>\n",
       "      <td>6.756507</td>\n",
       "      <td>5.243547</td>\n",
       "      <td>4.404165</td>\n",
       "      <td>3.782401</td>\n",
       "      <td>821.536895</td>\n",
       "      <td>0.632004</td>\n",
       "      <td>0.240000</td>\n",
       "      <td>0.107112</td>\n",
       "    </tr>\n",
       "    <tr>\n",
       "      <th>...</th>\n",
       "      <td>...</td>\n",
       "      <td>...</td>\n",
       "      <td>...</td>\n",
       "      <td>...</td>\n",
       "      <td>...</td>\n",
       "      <td>...</td>\n",
       "      <td>...</td>\n",
       "      <td>...</td>\n",
       "      <td>...</td>\n",
       "      <td>...</td>\n",
       "      <td>...</td>\n",
       "      <td>...</td>\n",
       "      <td>...</td>\n",
       "      <td>...</td>\n",
       "      <td>...</td>\n",
       "      <td>...</td>\n",
       "      <td>...</td>\n",
       "      <td>...</td>\n",
       "      <td>...</td>\n",
       "      <td>...</td>\n",
       "      <td>...</td>\n",
       "    </tr>\n",
       "    <tr>\n",
       "      <th>586</th>\n",
       "      <td>1962.667684</td>\n",
       "      <td>7</td>\n",
       "      <td>209.6</td>\n",
       "      <td>453.549422</td>\n",
       "      <td>45353</td>\n",
       "      <td>1843</td>\n",
       "      <td>11.4</td>\n",
       "      <td>0.000000</td>\n",
       "      <td>(45201, 48021.6]</td>\n",
       "      <td>45.7</td>\n",
       "      <td>...</td>\n",
       "      <td>1.063594</td>\n",
       "      <td>0.000000</td>\n",
       "      <td>6.960013</td>\n",
       "      <td>4.916792</td>\n",
       "      <td>4.095772</td>\n",
       "      <td>3.004188</td>\n",
       "      <td>895.304028</td>\n",
       "      <td>0.000000</td>\n",
       "      <td>0.051058</td>\n",
       "      <td>0.092834</td>\n",
       "    </tr>\n",
       "    <tr>\n",
       "      <th>587</th>\n",
       "      <td>1962.667684</td>\n",
       "      <td>85</td>\n",
       "      <td>184.4</td>\n",
       "      <td>453.549422</td>\n",
       "      <td>45180</td>\n",
       "      <td>35788</td>\n",
       "      <td>15.0</td>\n",
       "      <td>1900.078239</td>\n",
       "      <td>(42724.4, 45201]</td>\n",
       "      <td>38.2</td>\n",
       "      <td>...</td>\n",
       "      <td>2.125579</td>\n",
       "      <td>269.251086</td>\n",
       "      <td>9.777663</td>\n",
       "      <td>7.411185</td>\n",
       "      <td>6.546783</td>\n",
       "      <td>4.874661</td>\n",
       "      <td>1090.359059</td>\n",
       "      <td>4.505689</td>\n",
       "      <td>0.228196</td>\n",
       "      <td>0.268258</td>\n",
       "    </tr>\n",
       "    <tr>\n",
       "      <th>588</th>\n",
       "      <td>1962.667684</td>\n",
       "      <td>43</td>\n",
       "      <td>150.1</td>\n",
       "      <td>453.549422</td>\n",
       "      <td>48609</td>\n",
       "      <td>37118</td>\n",
       "      <td>18.8</td>\n",
       "      <td>377.175494</td>\n",
       "      <td>(48021.6, 51046.4]</td>\n",
       "      <td>30.4</td>\n",
       "      <td>...</td>\n",
       "      <td>2.010578</td>\n",
       "      <td>40.337266</td>\n",
       "      <td>6.897992</td>\n",
       "      <td>5.700201</td>\n",
       "      <td>5.197557</td>\n",
       "      <td>3.080034</td>\n",
       "      <td>612.951919</td>\n",
       "      <td>1.347175</td>\n",
       "      <td>0.432586</td>\n",
       "      <td>1.511172</td>\n",
       "    </tr>\n",
       "    <tr>\n",
       "      <th>589</th>\n",
       "      <td>1962.667684</td>\n",
       "      <td>46</td>\n",
       "      <td>153.9</td>\n",
       "      <td>453.549422</td>\n",
       "      <td>51144</td>\n",
       "      <td>34536</td>\n",
       "      <td>15.0</td>\n",
       "      <td>1968.959926</td>\n",
       "      <td>(51046.4, 54545.6]</td>\n",
       "      <td>30.9</td>\n",
       "      <td>...</td>\n",
       "      <td>1.711377</td>\n",
       "      <td>224.642180</td>\n",
       "      <td>7.073692</td>\n",
       "      <td>6.001229</td>\n",
       "      <td>5.453588</td>\n",
       "      <td>3.034842</td>\n",
       "      <td>882.756569</td>\n",
       "      <td>1.412170</td>\n",
       "      <td>0.150199</td>\n",
       "      <td>0.648122</td>\n",
       "    </tr>\n",
       "    <tr>\n",
       "      <th>590</th>\n",
       "      <td>1962.667684</td>\n",
       "      <td>48</td>\n",
       "      <td>213.6</td>\n",
       "      <td>453.549422</td>\n",
       "      <td>41193</td>\n",
       "      <td>37030</td>\n",
       "      <td>13.9</td>\n",
       "      <td>0.000000</td>\n",
       "      <td>(40362.7, 42724.4]</td>\n",
       "      <td>26.2</td>\n",
       "      <td>...</td>\n",
       "      <td>0.601054</td>\n",
       "      <td>0.000000</td>\n",
       "      <td>3.290665</td>\n",
       "      <td>2.607452</td>\n",
       "      <td>0.990226</td>\n",
       "      <td>1.085357</td>\n",
       "      <td>212.476967</td>\n",
       "      <td>197.444916</td>\n",
       "      <td>0.137410</td>\n",
       "      <td>0.058655</td>\n",
       "    </tr>\n",
       "  </tbody>\n",
       "</table>\n",
       "<p>591 rows × 61 columns</p>\n",
       "</div>"
      ],
      "text/plain": [
       "     avgAnnCount  avgDeathsPerYear  TARGET_deathRate  incidenceRate  \\\n",
       "0     173.000000                70             161.3     411.600000   \n",
       "1     427.000000               202             194.8     430.400000   \n",
       "2      57.000000                26             144.4     350.100000   \n",
       "3     146.000000                71             183.6     404.000000   \n",
       "4    2265.000000               901             171.0     440.700000   \n",
       "..           ...               ...               ...            ...   \n",
       "586  1962.667684                 7             209.6     453.549422   \n",
       "587  1962.667684                85             184.4     453.549422   \n",
       "588  1962.667684                43             150.1     453.549422   \n",
       "589  1962.667684                46             153.9     453.549422   \n",
       "590  1962.667684                48             213.6     453.549422   \n",
       "\n",
       "     medIncome  popEst2015  povertyPercent  studyPerCap           binnedInc  \\\n",
       "0        48127       43269            18.6    23.111234  (48021.6, 51046.4]   \n",
       "1        44243       75882            17.1   342.637253    (42724.4, 45201]   \n",
       "2        49955       10321            12.5     0.000000  (48021.6, 51046.4]   \n",
       "3        40189       20848            17.8     0.000000  (37413.8, 40362.7]   \n",
       "4        50083      490945            16.3   462.373586  (48021.6, 51046.4]   \n",
       "..         ...         ...             ...          ...                 ...   \n",
       "586      45353        1843            11.4     0.000000    (45201, 48021.6]   \n",
       "587      45180       35788            15.0  1900.078239    (42724.4, 45201]   \n",
       "588      48609       37118            18.8   377.175494  (48021.6, 51046.4]   \n",
       "589      51144       34536            15.0  1968.959926  (51046.4, 54545.6]   \n",
       "590      41193       37030            13.9     0.000000  (40362.7, 42724.4]   \n",
       "\n",
       "     MedianAge  ...  wpovertyPercent  wstudyPerCap wPctPrivateCoverage  \\\n",
       "0         33.0  ...         1.531803      1.903326            5.781322   \n",
       "1         42.8  ...         1.549498     31.047700            5.291852   \n",
       "2         48.3  ...         1.033384      0.000000            5.092516   \n",
       "3         51.7  ...         1.330112      0.000000            4.169678   \n",
       "4         37.2  ...         1.689127     47.914578            6.756507   \n",
       "..         ...  ...              ...           ...                 ...   \n",
       "586       45.7  ...         1.063594      0.000000            6.960013   \n",
       "587       38.2  ...         2.125579    269.251086            9.777663   \n",
       "588       30.4  ...         2.010578     40.337266            6.897992   \n",
       "589       30.9  ...         1.711377    224.642180            7.073692   \n",
       "590       26.2  ...         0.601054      0.000000            3.290665   \n",
       "\n",
       "     wPctPrivateCoverageAlone  wPctEmpPrivCoverage  wPctPublicCoverage  \\\n",
       "0                    4.430700             3.590679            2.561241   \n",
       "1                    3.651740             3.171487            4.104810   \n",
       "2                    3.629245             2.901742            3.637512   \n",
       "3                    2.473411             1.935388            3.803523   \n",
       "4                    5.243547             4.404165            3.782401   \n",
       "..                        ...                  ...                 ...   \n",
       "586                  4.916792             4.095772            3.004188   \n",
       "587                  7.411185             6.546783            4.874661   \n",
       "588                  5.700201             5.197557            3.080034   \n",
       "589                  6.001229             5.453588            3.034842   \n",
       "590                  2.607452             0.990226            1.085357   \n",
       "\n",
       "     wPctWhite_Square  wPctBlack_Cube  wPctAsian  wPctOtherRace  \n",
       "0          655.688133        0.074955   0.184989       0.308119  \n",
       "1          762.705169        0.043437   0.105235       0.123474  \n",
       "2          732.096136        0.001631   0.055045       0.040685  \n",
       "3          597.321006        0.002123   0.141162       0.170842  \n",
       "4          821.536895        0.632004   0.240000       0.107112  \n",
       "..                ...             ...        ...            ...  \n",
       "586        895.304028        0.000000   0.051058       0.092834  \n",
       "587       1090.359059        4.505689   0.228196       0.268258  \n",
       "588        612.951919        1.347175   0.432586       1.511172  \n",
       "589        882.756569        1.412170   0.150199       0.648122  \n",
       "590        212.476967      197.444916   0.137410       0.058655  \n",
       "\n",
       "[591 rows x 61 columns]"
      ]
     },
     "execution_count": 222,
     "metadata": {},
     "output_type": "execute_result"
    }
   ],
   "source": [
    "myData.reindex(labels=None, index=None)\n",
    "\n"
   ]
  },
  {
   "cell_type": "markdown",
   "id": "ad7c20e8",
   "metadata": {},
   "source": [
    "### Summary Statistics of Data"
   ]
  },
  {
   "cell_type": "code",
   "execution_count": 210,
   "id": "1c8b480d",
   "metadata": {},
   "outputs": [
    {
     "name": "stdout",
     "output_type": "stream",
     "text": [
      "         avgAnnCount  avgDeathsPerYear  TARGET_deathRate  incidenceRate  \\\n",
      "count     591.000000        591.000000        591.000000     591.000000   \n",
      "unique           NaN               NaN               NaN            NaN   \n",
      "top              NaN               NaN               NaN            NaN   \n",
      "freq             NaN               NaN               NaN            NaN   \n",
      "mean      682.316495        199.411168        179.090863     452.657990   \n",
      "std      1977.289390        708.330454         27.273580      54.381212   \n",
      "min         6.000000          3.000000         94.400000     234.000000   \n",
      "25%        87.000000         30.000000        161.350000     425.250000   \n",
      "50%       183.000000         64.000000        177.900000     453.549422   \n",
      "75%       542.000000        131.000000        195.400000     481.550000   \n",
      "max     38150.000000      14010.000000        293.900000    1014.200000   \n",
      "\n",
      "           medIncome    popEst2015  povertyPercent  studyPerCap  \\\n",
      "count     591.000000  5.910000e+02      591.000000   591.000000   \n",
      "unique           NaN           NaN             NaN          NaN   \n",
      "top              NaN           NaN             NaN          NaN   \n",
      "freq             NaN           NaN             NaN          NaN   \n",
      "mean    47032.851100  1.145526e+05       16.723181   122.729567   \n",
      "std     11405.103542  5.043527e+05        6.219356   357.586595   \n",
      "min     23047.000000  8.290000e+02        4.800000     0.000000   \n",
      "25%     39305.000000  1.232850e+04       12.000000     0.000000   \n",
      "50%     45235.000000  2.775500e+04       15.600000     0.000000   \n",
      "75%     52686.500000  6.621700e+04       19.900000    60.953380   \n",
      "max     97279.000000  1.017029e+07       45.100000  3657.320182   \n",
      "\n",
      "                 binnedInc   MedianAge  ...  PctPrivateCoverageAlone  \\\n",
      "count                  591  591.000000  ...               591.000000   \n",
      "unique                  10         NaN  ...                      NaN   \n",
      "top     (54545.6, 61494.5]         NaN  ...                      NaN   \n",
      "freq                    67         NaN  ...                      NaN   \n",
      "mean                   NaN   45.985787  ...                48.749069   \n",
      "std                    NaN   47.697553  ...                 9.920562   \n",
      "min                    NaN   23.200000  ...                23.700000   \n",
      "25%                    NaN   38.200000  ...                41.900000   \n",
      "50%                    NaN   40.900000  ...                49.000000   \n",
      "75%                    NaN   43.600000  ...                55.900000   \n",
      "max                    NaN  508.800000  ...                76.600000   \n",
      "\n",
      "        PctEmpPrivCoverage PctPublicCoverage  PctPublicCoverageAlone  \\\n",
      "count           591.000000        591.000000              591.000000   \n",
      "unique                 NaN               NaN                     NaN   \n",
      "top                    NaN               NaN                     NaN   \n",
      "freq                   NaN               NaN                     NaN   \n",
      "mean             41.534687         36.193063               19.203215   \n",
      "std               9.544078          7.571871                5.960506   \n",
      "min              16.300000         14.800000                2.600000   \n",
      "25%              34.750000         30.950000               14.950000   \n",
      "50%              41.600000         36.500000               18.700000   \n",
      "75%              48.550000         40.700000               22.900000   \n",
      "max              68.800000         62.200000               41.400000   \n",
      "\n",
      "          PctWhite    PctBlack    PctAsian  PctOtherRace  \\\n",
      "count   591.000000  591.000000  591.000000    591.000000   \n",
      "unique         NaN         NaN         NaN           NaN   \n",
      "top            NaN         NaN         NaN           NaN   \n",
      "freq           NaN         NaN         NaN           NaN   \n",
      "mean     84.224532    8.727607    1.183705      1.921294   \n",
      "std      15.450720   13.582028    1.969232      3.391412   \n",
      "min      11.008762    0.000000    0.000000      0.000000   \n",
      "25%      78.083708    0.681788    0.267913      0.284278   \n",
      "50%      90.238859    2.450805    0.569827      0.755216   \n",
      "75%      95.266834   11.395684    1.197193      2.151791   \n",
      "max     100.000000   84.866024   23.238107     37.610994   \n",
      "\n",
      "        PctMarriedHouseholds   BirthRate  \n",
      "count             591.000000  591.000000  \n",
      "unique                   NaN         NaN  \n",
      "top                      NaN         NaN  \n",
      "freq                     NaN         NaN  \n",
      "mean               51.318223    5.739657  \n",
      "std                 6.240708    1.899942  \n",
      "min                24.024634    0.413223  \n",
      "25%                48.105663    4.606546  \n",
      "50%                51.673640    5.497771  \n",
      "75%                55.311860    6.706986  \n",
      "max                71.703057   17.877095  \n",
      "\n",
      "[11 rows x 34 columns]\n"
     ]
    }
   ],
   "source": [
    "print(myData.describe(include='all'))"
   ]
  },
  {
   "cell_type": "markdown",
   "id": "d5bdbcba",
   "metadata": {},
   "source": [
    "# OLS"
   ]
  },
  {
   "cell_type": "markdown",
   "id": "fa2b6601",
   "metadata": {},
   "source": [
    "### Model 1 \n"
   ]
  },
  {
   "cell_type": "code",
   "execution_count": 211,
   "id": "e02767f7",
   "metadata": {
    "scrolled": true
   },
   "outputs": [
    {
     "name": "stdout",
     "output_type": "stream",
     "text": [
      "Intercept             161.512128\n",
      "avgAnnCount            -0.002252\n",
      "avgDeathsPerYear        0.005774\n",
      "incidenceRate           0.201692\n",
      "medIncome              -0.000325\n",
      "povertyPercent         -0.335082\n",
      "studyPerCap            -0.001225\n",
      "MedianAge              -0.014617\n",
      "MedianAgeMale          -1.146296\n",
      "MedianAgeFemale         0.846337\n",
      "PctPrivateCoverage     -0.945133\n",
      "PctWhite                0.230002\n",
      "PctBlack                0.320969\n",
      "PctAsian               -0.632677\n",
      "PctOtherRace           -1.164112\n",
      "dtype: float64\n",
      "                            OLS Regression Results                            \n",
      "==============================================================================\n",
      "Dep. Variable:       TARGET_deathRate   R-squared:                       0.373\n",
      "Model:                            OLS   Adj. R-squared:                  0.358\n",
      "Method:                 Least Squares   F-statistic:                     24.49\n",
      "Date:                Mon, 02 May 2022   Prob (F-statistic):           9.36e-50\n",
      "Time:                        11:35:33   Log-Likelihood:                -2653.9\n",
      "No. Observations:                 591   AIC:                             5338.\n",
      "Df Residuals:                     576   BIC:                             5404.\n",
      "Df Model:                          14                                         \n",
      "Covariance Type:            nonrobust                                         \n",
      "======================================================================================\n",
      "                         coef    std err          t      P>|t|      [0.025      0.975]\n",
      "--------------------------------------------------------------------------------------\n",
      "Intercept            161.5121     25.531      6.326      0.000     111.368     211.657\n",
      "avgAnnCount           -0.0023      0.002     -1.260      0.208      -0.006       0.001\n",
      "avgDeathsPerYear       0.0058      0.005      1.147      0.252      -0.004       0.016\n",
      "incidenceRate          0.2017      0.018     11.482      0.000       0.167       0.236\n",
      "medIncome             -0.0003      0.000     -1.842      0.066      -0.001    2.15e-05\n",
      "povertyPercent        -0.3351      0.384     -0.873      0.383      -1.089       0.419\n",
      "studyPerCap           -0.0012      0.003     -0.478      0.633      -0.006       0.004\n",
      "MedianAge             -0.0146      0.019     -0.768      0.443      -0.052       0.023\n",
      "MedianAgeMale         -1.1463      0.497     -2.304      0.022      -2.123      -0.169\n",
      "MedianAgeFemale        0.8463      0.501      1.691      0.091      -0.137       1.829\n",
      "PctPrivateCoverage    -0.9451      0.180     -5.260      0.000      -1.298      -0.592\n",
      "PctWhite               0.2300      0.137      1.681      0.093      -0.039       0.499\n",
      "PctBlack               0.3210      0.140      2.297      0.022       0.047       0.595\n",
      "PctAsian              -0.6327      0.652     -0.970      0.333      -1.914       0.649\n",
      "PctOtherRace          -1.1641      0.320     -3.633      0.000      -1.793      -0.535\n",
      "==============================================================================\n",
      "Omnibus:                       51.791   Durbin-Watson:                   1.895\n",
      "Prob(Omnibus):                  0.000   Jarque-Bera (JB):              272.001\n",
      "Skew:                           0.056   Prob(JB):                     8.62e-60\n",
      "Kurtosis:                       6.322   Cond. No.                     1.37e+06\n",
      "==============================================================================\n",
      "\n",
      "Notes:\n",
      "[1] Standard Errors assume that the covariance matrix of the errors is correctly specified.\n",
      "[2] The condition number is large, 1.37e+06. This might indicate that there are\n",
      "strong multicollinearity or other numerical problems.\n"
     ]
    }
   ],
   "source": [
    "Model1 = sm.ols(formula=\"TARGET_deathRate ~ avgAnnCount + avgDeathsPerYear + incidenceRate + medIncome + povertyPercent + studyPerCap + MedianAge + MedianAgeMale + MedianAgeFemale + PctPrivateCoverage + PctWhite + PctBlack + PctAsian + PctOtherRace\", data=myData).fit()\n",
    "print(Model1.params)\n",
    "print(Model1.summary())"
   ]
  },
  {
   "cell_type": "markdown",
   "id": "e390c83a",
   "metadata": {},
   "source": [
    "Creating new columns in hopes of improving model"
   ]
  },
  {
   "cell_type": "code",
   "execution_count": 212,
   "id": "3af40ee1",
   "metadata": {},
   "outputs": [],
   "source": [
    "myData['MedianAge_Square']=myData['MedianAge']**2\n",
    "#print(data['MedianAge_Square'])\n",
    "myData['MedianAgeMale_Square']=myData['MedianAgeMale']**2\n",
    "#print(data['MedianAgeMale_Square'])\n",
    "myData['MedianAgeFemale_Square']=myData['MedianAgeFemale']**2\n",
    "#print(data['MedianAgeFemale_Square'])"
   ]
  },
  {
   "cell_type": "markdown",
   "id": "fcc6b19e",
   "metadata": {},
   "source": [
    "### Model 2"
   ]
  },
  {
   "cell_type": "code",
   "execution_count": 213,
   "id": "1d7ee48a",
   "metadata": {
    "scrolled": false
   },
   "outputs": [
    {
     "name": "stdout",
     "output_type": "stream",
     "text": [
      "Intercept                 161.896461\n",
      "avgAnnCount                -0.002210\n",
      "avgDeathsPerYear            0.005667\n",
      "incidenceRate               0.200411\n",
      "medIncome                  -0.000356\n",
      "povertyPercent             -0.403387\n",
      "studyPerCap                -0.001341\n",
      "MedianAge_Square           -0.000028\n",
      "MedianAgeMale_Square       -0.013404\n",
      "MedianAgeFemale_Square      0.007742\n",
      "PctPrivateCoverage         -0.956090\n",
      "PctWhite                    0.237459\n",
      "PctBlack                    0.330107\n",
      "PctAsian                   -0.621786\n",
      "PctOtherRace               -1.193660\n",
      "dtype: float64\n",
      "                            OLS Regression Results                            \n",
      "==============================================================================\n",
      "Dep. Variable:       TARGET_deathRate   R-squared:                       0.374\n",
      "Model:                            OLS   Adj. R-squared:                  0.359\n",
      "Method:                 Least Squares   F-statistic:                     24.57\n",
      "Date:                Mon, 02 May 2022   Prob (F-statistic):           6.49e-50\n",
      "Time:                        11:35:33   Log-Likelihood:                -2653.5\n",
      "No. Observations:                 591   AIC:                             5337.\n",
      "Df Residuals:                     576   BIC:                             5403.\n",
      "Df Model:                          14                                         \n",
      "Covariance Type:            nonrobust                                         \n",
      "==========================================================================================\n",
      "                             coef    std err          t      P>|t|      [0.025      0.975]\n",
      "------------------------------------------------------------------------------------------\n",
      "Intercept                161.8965     23.231      6.969      0.000     116.269     207.524\n",
      "avgAnnCount               -0.0022      0.002     -1.236      0.217      -0.006       0.001\n",
      "avgDeathsPerYear           0.0057      0.005      1.126      0.261      -0.004       0.016\n",
      "incidenceRate              0.2004      0.018     11.416      0.000       0.166       0.235\n",
      "medIncome                 -0.0004      0.000     -2.013      0.045      -0.001   -8.71e-06\n",
      "povertyPercent            -0.4034      0.381     -1.060      0.290      -1.151       0.344\n",
      "studyPerCap               -0.0013      0.003     -0.523      0.601      -0.006       0.004\n",
      "MedianAge_Square       -2.762e-05   3.63e-05     -0.761      0.447   -9.89e-05    4.36e-05\n",
      "MedianAgeMale_Square      -0.0134      0.006     -2.133      0.033      -0.026      -0.001\n",
      "MedianAgeFemale_Square     0.0077      0.006      1.268      0.205      -0.004       0.020\n",
      "PctPrivateCoverage        -0.9561      0.178     -5.374      0.000      -1.306      -0.607\n",
      "PctWhite                   0.2375      0.136      1.747      0.081      -0.030       0.504\n",
      "PctBlack                   0.3301      0.139      2.373      0.018       0.057       0.603\n",
      "PctAsian                  -0.6218      0.651     -0.954      0.340      -1.901       0.658\n",
      "PctOtherRace              -1.1937      0.320     -3.734      0.000      -1.822      -0.566\n",
      "==============================================================================\n",
      "Omnibus:                       53.767   Durbin-Watson:                   1.901\n",
      "Prob(Omnibus):                  0.000   Jarque-Bera (JB):              295.764\n",
      "Skew:                           0.054   Prob(JB):                     5.97e-65\n",
      "Kurtosis:                       6.464   Cond. No.                     1.26e+06\n",
      "==============================================================================\n",
      "\n",
      "Notes:\n",
      "[1] Standard Errors assume that the covariance matrix of the errors is correctly specified.\n",
      "[2] The condition number is large, 1.26e+06. This might indicate that there are\n",
      "strong multicollinearity or other numerical problems.\n"
     ]
    }
   ],
   "source": [
    "Model2 = sm.ols(formula=\"TARGET_deathRate ~ avgAnnCount + avgDeathsPerYear + incidenceRate + medIncome + povertyPercent + studyPerCap + MedianAge_Square + MedianAgeMale_Square + MedianAgeFemale_Square + PctPrivateCoverage + PctWhite + PctBlack + PctAsian + PctOtherRace\", data=myData).fit()\n",
    "print(Model2.params)\n",
    "print(Model2.summary())"
   ]
  },
  {
   "cell_type": "markdown",
   "id": "5cfc8b25",
   "metadata": {},
   "source": [
    "### Model 3"
   ]
  },
  {
   "cell_type": "code",
   "execution_count": 214,
   "id": "cff93806",
   "metadata": {
    "scrolled": true
   },
   "outputs": [
    {
     "name": "stdout",
     "output_type": "stream",
     "text": [
      "Intercept             146.399445\n",
      "avgAnnCount            -0.002185\n",
      "avgDeathsPerYear        0.005532\n",
      "incidenceRate           0.201210\n",
      "medIncome              -0.000304\n",
      "povertyPercent         -0.160557\n",
      "studyPerCap            -0.001154\n",
      "PctPrivateCoverage     -0.871744\n",
      "PctWhite                0.182940\n",
      "PctBlack                0.316935\n",
      "PctAsian               -0.537750\n",
      "PctOtherRace           -1.097776\n",
      "dtype: float64\n",
      "                            OLS Regression Results                            \n",
      "==============================================================================\n",
      "Dep. Variable:       TARGET_deathRate   R-squared:                       0.366\n",
      "Model:                            OLS   Adj. R-squared:                  0.354\n",
      "Method:                 Least Squares   F-statistic:                     30.37\n",
      "Date:                Mon, 02 May 2022   Prob (F-statistic):           1.40e-50\n",
      "Time:                        11:35:33   Log-Likelihood:                -2657.3\n",
      "No. Observations:                 591   AIC:                             5339.\n",
      "Df Residuals:                     579   BIC:                             5391.\n",
      "Df Model:                          11                                         \n",
      "Covariance Type:            nonrobust                                         \n",
      "======================================================================================\n",
      "                         coef    std err          t      P>|t|      [0.025      0.975]\n",
      "--------------------------------------------------------------------------------------\n",
      "Intercept            146.3994     21.271      6.882      0.000     104.621     188.178\n",
      "avgAnnCount           -0.0022      0.002     -1.223      0.222      -0.006       0.001\n",
      "avgDeathsPerYear       0.0055      0.005      1.099      0.272      -0.004       0.015\n",
      "incidenceRate          0.2012      0.018     11.447      0.000       0.167       0.236\n",
      "medIncome             -0.0003      0.000     -1.767      0.078      -0.001    3.38e-05\n",
      "povertyPercent        -0.1606      0.357     -0.450      0.653      -0.861       0.540\n",
      "studyPerCap           -0.0012      0.003     -0.450      0.653      -0.006       0.004\n",
      "PctPrivateCoverage    -0.8717      0.174     -5.015      0.000      -1.213      -0.530\n",
      "PctWhite               0.1829      0.133      1.372      0.171      -0.079       0.445\n",
      "PctBlack               0.3169      0.137      2.317      0.021       0.048       0.586\n",
      "PctAsian              -0.5377      0.653     -0.824      0.410      -1.820       0.745\n",
      "PctOtherRace          -1.0978      0.316     -3.471      0.001      -1.719      -0.477\n",
      "==============================================================================\n",
      "Omnibus:                       50.457   Durbin-Watson:                   1.860\n",
      "Prob(Omnibus):                  0.000   Jarque-Bera (JB):              257.847\n",
      "Skew:                          -0.048   Prob(JB):                     1.02e-56\n",
      "Kurtosis:                       6.234   Cond. No.                     1.14e+06\n",
      "==============================================================================\n",
      "\n",
      "Notes:\n",
      "[1] Standard Errors assume that the covariance matrix of the errors is correctly specified.\n",
      "[2] The condition number is large, 1.14e+06. This might indicate that there are\n",
      "strong multicollinearity or other numerical problems.\n"
     ]
    }
   ],
   "source": [
    "Model3 = sm.ols(formula=\"TARGET_deathRate ~ avgAnnCount + avgDeathsPerYear + incidenceRate + medIncome + povertyPercent + studyPerCap + PctPrivateCoverage + PctWhite + PctBlack + PctAsian + PctOtherRace\", data=myData).fit()\n",
    "print(Model3.params)\n",
    "print(Model3.summary())"
   ]
  },
  {
   "cell_type": "markdown",
   "id": "e5634032",
   "metadata": {},
   "source": [
    "Creating new columns based on pre-existing ones with hopes of improving model"
   ]
  },
  {
   "cell_type": "code",
   "execution_count": 215,
   "id": "c7d83c3c",
   "metadata": {},
   "outputs": [],
   "source": [
    "myData['PctWhite_Square']=myData['PctWhite']**2\n",
    "myData['PctBlack_Square']=myData['PctBlack']**2\n",
    "myData['PctBlack_Cube']=np.power((myData['PctBlack']),3)\n",
    "myData['PctAsian_Square']=myData['PctAsian']**2\n",
    "myData['povertyPercent_Square']=myData['povertyPercent']**2\n",
    "myData['povertyPercent_Cube']=np.power((myData['povertyPercent']),3)\n",
    "myData['LN_avgAnnCount'] = np.log(myData['avgAnnCount'])\n",
    "myData['LN_avgDeathsPerYear'] = np.log(myData['avgDeathsPerYear'])\n",
    "myData['PctPublicCoverage_Square']=myData['PctPublicCoverage']**2\n",
    "myData['PctPublicCoverageAlone_Square']=myData['PctPublicCoverageAlone']**2   "
   ]
  },
  {
   "cell_type": "markdown",
   "id": "aa8cd322",
   "metadata": {},
   "source": [
    "### Model 4"
   ]
  },
  {
   "cell_type": "code",
   "execution_count": 216,
   "id": "6b909498",
   "metadata": {
    "scrolled": false
   },
   "outputs": [
    {
     "name": "stdout",
     "output_type": "stream",
     "text": [
      "Intercept                  155.227136\n",
      "LN_avgAnnCount              -1.545175\n",
      "LN_avgDeathsPerYear          3.480224\n",
      "incidenceRate                0.186986\n",
      "medIncome                   -0.000564\n",
      "povertyPercent              -0.265174\n",
      "studyPerCap                 -0.002740\n",
      "PctPrivateCoverage          -0.938639\n",
      "PctPrivateCoverageAlone     -0.175493\n",
      "PctEmpPrivCoverage           0.808364\n",
      "PctPublicCoverage            0.323585\n",
      "PctWhite_Square             -0.001007\n",
      "PctBlack_Cube               -0.000016\n",
      "PctAsian                    -1.439937\n",
      "PctOtherRace                -1.363015\n",
      "dtype: float64\n",
      "                            OLS Regression Results                            \n",
      "==============================================================================\n",
      "Dep. Variable:       TARGET_deathRate   R-squared:                       0.393\n",
      "Model:                            OLS   Adj. R-squared:                  0.378\n",
      "Method:                 Least Squares   F-statistic:                     26.62\n",
      "Date:                Mon, 02 May 2022   Prob (F-statistic):           1.26e-53\n",
      "Time:                        11:35:33   Log-Likelihood:                -2644.4\n",
      "No. Observations:                 591   AIC:                             5319.\n",
      "Df Residuals:                     576   BIC:                             5385.\n",
      "Df Model:                          14                                         \n",
      "Covariance Type:            nonrobust                                         \n",
      "===========================================================================================\n",
      "                              coef    std err          t      P>|t|      [0.025      0.975]\n",
      "-------------------------------------------------------------------------------------------\n",
      "Intercept                 155.2271     25.538      6.078      0.000     105.068     205.386\n",
      "LN_avgAnnCount             -1.5452      0.970     -1.594      0.112      -3.449       0.359\n",
      "LN_avgDeathsPerYear         3.4802      1.123      3.100      0.002       1.275       5.685\n",
      "incidenceRate               0.1870      0.018     10.544      0.000       0.152       0.222\n",
      "medIncome                  -0.0006      0.000     -2.975      0.003      -0.001      -0.000\n",
      "povertyPercent             -0.2652      0.376     -0.705      0.481      -1.003       0.473\n",
      "studyPerCap                -0.0027      0.003     -1.077      0.282      -0.008       0.002\n",
      "PctPrivateCoverage         -0.9386      0.381     -2.465      0.014      -1.687      -0.191\n",
      "PctPrivateCoverageAlone    -0.1755      0.602     -0.291      0.771      -1.359       1.008\n",
      "PctEmpPrivCoverage          0.8084      0.281      2.880      0.004       0.257       1.360\n",
      "PctPublicCoverage           0.3236      0.314      1.032      0.303      -0.293       0.940\n",
      "PctWhite_Square            -0.0010      0.001     -1.519      0.129      -0.002       0.000\n",
      "PctBlack_Cube           -1.558e-05   2.58e-05     -0.603      0.547   -6.64e-05    3.52e-05\n",
      "PctAsian                   -1.4399      0.625     -2.303      0.022      -2.668      -0.212\n",
      "PctOtherRace               -1.3630      0.307     -4.439      0.000      -1.966      -0.760\n",
      "==============================================================================\n",
      "Omnibus:                       63.460   Durbin-Watson:                   1.933\n",
      "Prob(Omnibus):                  0.000   Jarque-Bera (JB):              277.052\n",
      "Skew:                           0.365   Prob(JB):                     6.90e-61\n",
      "Kurtosis:                       6.274   Cond. No.                     1.51e+06\n",
      "==============================================================================\n",
      "\n",
      "Notes:\n",
      "[1] Standard Errors assume that the covariance matrix of the errors is correctly specified.\n",
      "[2] The condition number is large, 1.51e+06. This might indicate that there are\n",
      "strong multicollinearity or other numerical problems.\n"
     ]
    }
   ],
   "source": [
    "Model4 = sm.ols(formula=\"TARGET_deathRate ~ LN_avgAnnCount + LN_avgDeathsPerYear + incidenceRate + medIncome + povertyPercent + studyPerCap + PctPrivateCoverage + PctPrivateCoverageAlone + PctEmpPrivCoverage + PctPublicCoverage + PctWhite_Square + PctBlack_Cube + PctAsian + PctOtherRace\", data=myData).fit()\n",
    "print(Model4.params)\n",
    "print(Model4.summary())"
   ]
  },
  {
   "cell_type": "markdown",
   "id": "3dcea010",
   "metadata": {},
   "source": [
    "### Model 5"
   ]
  },
  {
   "cell_type": "markdown",
   "id": "c3eafbda",
   "metadata": {},
   "source": [
    "I decided to do a quite different model because I realized at this point that average annual count and average. deaths per year are inherently connected to the dependent variable and wanted a model more like the one to follow. "
   ]
  },
  {
   "attachments": {
    "Screen%20Shot%202022-05-02%20at%2011.50.24%20AM.png": {
     "image/png": "[encoded data removed]"
    }
   },
   "cell_type": "markdown",
   "id": "a6f7d1ed",
   "metadata": {},
   "source": [
    "![Screen%20Shot%202022-05-02%20at%2011.50.24%20AM.png](attachment:Screen%20Shot%202022-05-02%20at%2011.50.24%20AM.png)"
   ]
  },
  {
   "cell_type": "code",
   "execution_count": 217,
   "id": "9ed241a6",
   "metadata": {
    "scrolled": true
   },
   "outputs": [
    {
     "name": "stdout",
     "output_type": "stream",
     "text": [
      "Intercept                  199.936249\n",
      "medIncome                   -0.000567\n",
      "MedianAge                   -0.007935\n",
      "povertyPercent               0.028942\n",
      "studyPerCap                 -0.000086\n",
      "PctPrivateCoverage          -0.962276\n",
      "PctPrivateCoverageAlone      0.168201\n",
      "PctEmpPrivCoverage           1.219772\n",
      "PctPublicCoverage            0.865217\n",
      "PctWhite_Square             -0.002310\n",
      "PctBlack_Cube               -0.000045\n",
      "PctAsian                    -0.762389\n",
      "PctOtherRace                -2.065460\n",
      "dtype: float64\n",
      "                            OLS Regression Results                            \n",
      "==============================================================================\n",
      "Dep. Variable:       TARGET_deathRate   R-squared:                       0.262\n",
      "Model:                            OLS   Adj. R-squared:                  0.246\n",
      "Method:                 Least Squares   F-statistic:                     17.06\n",
      "Date:                Mon, 02 May 2022   Prob (F-statistic):           2.02e-31\n",
      "Time:                        11:35:33   Log-Likelihood:                -2702.3\n",
      "No. Observations:                 591   AIC:                             5431.\n",
      "Df Residuals:                     578   BIC:                             5488.\n",
      "Df Model:                          12                                         \n",
      "Covariance Type:            nonrobust                                         \n",
      "===========================================================================================\n",
      "                              coef    std err          t      P>|t|      [0.025      0.975]\n",
      "-------------------------------------------------------------------------------------------\n",
      "Intercept                 199.9362     27.717      7.213      0.000     145.498     254.375\n",
      "medIncome                  -0.0006      0.000     -2.724      0.007      -0.001      -0.000\n",
      "MedianAge                  -0.0079      0.021     -0.386      0.700      -0.048       0.032\n",
      "povertyPercent              0.0289      0.410      0.071      0.944      -0.776       0.834\n",
      "studyPerCap             -8.552e-05      0.003     -0.031      0.975      -0.006       0.005\n",
      "PctPrivateCoverage         -0.9623      0.418     -2.304      0.022      -1.783      -0.142\n",
      "PctPrivateCoverageAlone     0.1682      0.661      0.254      0.799      -1.130       1.467\n",
      "PctEmpPrivCoverage          1.2198      0.298      4.086      0.000       0.634       1.806\n",
      "PctPublicCoverage           0.8652      0.338      2.559      0.011       0.201       1.529\n",
      "PctWhite_Square            -0.0023      0.001     -3.250      0.001      -0.004      -0.001\n",
      "PctBlack_Cube           -4.461e-05   2.83e-05     -1.578      0.115      -0.000    1.09e-05\n",
      "PctAsian                   -0.7624      0.644     -1.183      0.237      -2.028       0.503\n",
      "PctOtherRace               -2.0655      0.330     -6.255      0.000      -2.714      -1.417\n",
      "==============================================================================\n",
      "Omnibus:                       38.966   Durbin-Watson:                   1.817\n",
      "Prob(Omnibus):                  0.000   Jarque-Bera (JB):              133.438\n",
      "Skew:                           0.177   Prob(JB):                     1.06e-29\n",
      "Kurtosis:                       5.301   Cond. No.                     1.49e+06\n",
      "==============================================================================\n",
      "\n",
      "Notes:\n",
      "[1] Standard Errors assume that the covariance matrix of the errors is correctly specified.\n",
      "[2] The condition number is large, 1.49e+06. This might indicate that there are\n",
      "strong multicollinearity or other numerical problems.\n"
     ]
    }
   ],
   "source": [
    "Model5 = sm.ols(formula=\"TARGET_deathRate ~ medIncome + MedianAge + povertyPercent + studyPerCap + PctPrivateCoverage + PctPrivateCoverageAlone + PctEmpPrivCoverage + PctPublicCoverage + PctWhite_Square + PctBlack_Cube + PctAsian + PctOtherRace\", data=myData).fit()\n",
    "print(Model5.params)\n",
    "print(Model5.summary())"
   ]
  },
  {
   "cell_type": "markdown",
   "id": "019baf7d",
   "metadata": {},
   "source": [
    "Decide Model 5 will be used for the WLS. "
   ]
  },
  {
   "cell_type": "markdown",
   "id": "a4f49b50",
   "metadata": {},
   "source": [
    "# start of WLS"
   ]
  },
  {
   "cell_type": "markdown",
   "id": "710c6862",
   "metadata": {},
   "source": [
    "Need to obtain the residuals from Model 5 and square them. Then take the natural log of the squared residuals."
   ]
  },
  {
   "cell_type": "code",
   "execution_count": 223,
   "id": "47813c37",
   "metadata": {
    "scrolled": true
   },
   "outputs": [
    {
     "data": {
      "text/plain": [
       "0      3.370855\n",
       "1      4.699682\n",
       "2      7.065505\n",
       "3      2.479970\n",
       "4      4.074639\n",
       "         ...   \n",
       "586    7.453750\n",
       "587    3.005484\n",
       "588    4.195784\n",
       "589    5.662960\n",
       "590    8.410235\n",
       "Length: 591, dtype: float64"
      ]
     },
     "execution_count": 223,
     "metadata": {},
     "output_type": "execute_result"
    }
   ],
   "source": [
    "uhat = Model5.resid\n",
    "uhat2 = uhat*uhat\n",
    "Lnuhat2 = np.log(uhat2)\n",
    "len(uhat)\n",
    "Lnuhat2.reindex(index=None)\n",
    "\n"
   ]
  },
  {
   "cell_type": "markdown",
   "id": "858c61e4",
   "metadata": {},
   "source": [
    "#### FGLS & prediction of fitted values in order to define weight for WLS"
   ]
  },
  {
   "cell_type": "markdown",
   "id": "b40fb74f",
   "metadata": {},
   "source": [
    "For FGLS, I regress the natural log of the sqaured residuals from model 5 on all right hand side variables in model 5. \n",
    "\n",
    "Then, obtain the fitted values from the FGLS regression, I call this yhatstar (yhatstar=lnuhat2HAT). Since the dependent variable is in log form I need to take the exponential of the fitted values (e^yhatstar = e^lnuhat2HAT = uhat2HAT). \n",
    "\n",
    "To create the weight I do 1 over the sqaure root of the exponential fitted values (1/sqrt(uhat2HAT))\n",
    "\n",
    "I created a column in the data for the weight to make sure the weighted variables would be easy to create.  "
   ]
  },
  {
   "cell_type": "code",
   "execution_count": 219,
   "id": "5af40088",
   "metadata": {},
   "outputs": [],
   "source": [
    "FGLS = sm.ols(formula=\"Lnuhat2 ~ medIncome + MedianAge + povertyPercent + studyPerCap + PctPrivateCoverage + PctPrivateCoverageAlone + PctEmpPrivCoverage + PctPublicCoverage + PctWhite_Square + PctBlack_Cube + PctAsian + PctOtherRace\", data=myData).fit()\n",
    "yhatStar = FGLS.fittedvalues\n",
    "exp_yhatStar = np.exp(yhatStar)\n",
    "denom = exp_yhatStar**.5\n",
    "weight = 1/denom\n",
    "myData['weight'] = weight"
   ]
  },
  {
   "cell_type": "markdown",
   "id": "132d92db",
   "metadata": {},
   "source": [
    "#### Creating weighted variables/columns in data"
   ]
  },
  {
   "cell_type": "code",
   "execution_count": 220,
   "id": "779211a9",
   "metadata": {},
   "outputs": [],
   "source": [
    "myData['wTARGET_deathRate'] = myData['TARGET_deathRate']*myData['weight']\n",
    "myData['wMedianAge']= myData['MedianAge']*myData['weight']\n",
    "myData['wmedIncome']= myData['medIncome']*myData['weight']\n",
    "myData['wpovertyPercent']= myData['povertyPercent']*myData['weight']\n",
    "myData['wstudyPerCap']= myData['studyPerCap']*myData['weight']\n",
    "myData['wPctPrivateCoverage']= myData['PctPrivateCoverage']*myData['weight']\n",
    "myData['wPctPrivateCoverageAlone']= myData['PctPrivateCoverageAlone']*myData['weight']\n",
    "myData['wPctEmpPrivCoverage']= myData['PctEmpPrivCoverage']*myData['weight']\n",
    "myData['wPctPublicCoverage']= myData['PctPublicCoverage']*myData['weight']\n",
    "myData['wPctWhite_Square']= myData['PctWhite_Square']*myData['weight']\n",
    "myData['wPctBlack_Cube']= myData['PctBlack_Cube']*myData['weight']\n",
    "myData['wPctAsian']= myData['PctAsian']*myData['weight']\n",
    "myData['wPctOtherRace']= myData['PctOtherRace']*myData['weight']\n"
   ]
  },
  {
   "cell_type": "markdown",
   "id": "5fba7fbf",
   "metadata": {},
   "source": [
    "## WLS Regression"
   ]
  },
  {
   "cell_type": "markdown",
   "id": "cdee8991",
   "metadata": {},
   "source": [
    "weighted least squares is multiplying both left hand side and right hand side variables by the weight and then running the same regression as model 5, but only using the weighted variables.  "
   ]
  },
  {
   "cell_type": "code",
   "execution_count": 221,
   "id": "0833e6ce",
   "metadata": {
    "scrolled": true
   },
   "outputs": [
    {
     "name": "stdout",
     "output_type": "stream",
     "text": [
      "Intercept                   3.999097\n",
      "wmedIncome                 -0.000513\n",
      "wMedianAge                  0.028770\n",
      "wpovertyPercent             0.366920\n",
      "wstudyPerCap                0.003844\n",
      "wPctPrivateCoverage        -0.959965\n",
      "wPctPrivateCoverageAlone    0.031823\n",
      "wPctEmpPrivCoverage         3.406430\n",
      "wPctPublicCoverage          2.702538\n",
      "wPctWhite_Square           -0.003227\n",
      "wPctBlack_Cube             -0.000113\n",
      "wPctAsian                   0.395721\n",
      "wPctOtherRace              -2.211395\n",
      "dtype: float64\n",
      "                            OLS Regression Results                            \n",
      "==============================================================================\n",
      "Dep. Variable:      wTARGET_deathRate   R-squared:                       0.886\n",
      "Model:                            OLS   Adj. R-squared:                  0.883\n",
      "Method:                 Least Squares   F-statistic:                     373.4\n",
      "Date:                Mon, 02 May 2022   Prob (F-statistic):          5.11e-263\n",
      "Time:                        11:35:33   Log-Likelihood:                -1263.5\n",
      "No. Observations:                 591   AIC:                             2553.\n",
      "Df Residuals:                     578   BIC:                             2610.\n",
      "Df Model:                          12                                         \n",
      "Covariance Type:            nonrobust                                         \n",
      "============================================================================================\n",
      "                               coef    std err          t      P>|t|      [0.025      0.975]\n",
      "--------------------------------------------------------------------------------------------\n",
      "Intercept                    3.9991      0.809      4.942      0.000       2.410       5.589\n",
      "wmedIncome                  -0.0005      0.000     -2.237      0.026      -0.001   -6.27e-05\n",
      "wMedianAge                   0.0288      0.014      2.118      0.035       0.002       0.055\n",
      "wpovertyPercent              0.3669      0.437      0.839      0.402      -0.492       1.226\n",
      "wstudyPerCap                 0.0038      0.002      1.757      0.079      -0.000       0.008\n",
      "wPctPrivateCoverage         -0.9600      0.421     -2.279      0.023      -1.787      -0.133\n",
      "wPctPrivateCoverageAlone     0.0318      0.693      0.046      0.963      -1.329       1.392\n",
      "wPctEmpPrivCoverage          3.4064      0.514      6.622      0.000       2.396       4.417\n",
      "wPctPublicCoverage           2.7025      0.251     10.767      0.000       2.210       3.196\n",
      "wPctWhite_Square            -0.0032      0.001     -3.934      0.000      -0.005      -0.002\n",
      "wPctBlack_Cube              -0.0001   4.13e-05     -2.730      0.007      -0.000   -3.16e-05\n",
      "wPctAsian                    0.3957      0.351      1.127      0.260      -0.294       1.085\n",
      "wPctOtherRace               -2.2114      0.366     -6.046      0.000      -2.930      -1.493\n",
      "==============================================================================\n",
      "Omnibus:                       31.953   Durbin-Watson:                   1.808\n",
      "Prob(Omnibus):                  0.000   Jarque-Bera (JB):               93.963\n",
      "Skew:                           0.153   Prob(JB):                     3.95e-21\n",
      "Kurtosis:                       4.929   Cond. No.                     6.62e+04\n",
      "==============================================================================\n",
      "\n",
      "Notes:\n",
      "[1] Standard Errors assume that the covariance matrix of the errors is correctly specified.\n",
      "[2] The condition number is large, 6.62e+04. This might indicate that there are\n",
      "strong multicollinearity or other numerical problems.\n"
     ]
    }
   ],
   "source": [
    "WLS = sm.ols(formula=\"wTARGET_deathRate ~ wmedIncome + wMedianAge + wpovertyPercent + wstudyPerCap + wPctPrivateCoverage + wPctPrivateCoverageAlone + wPctEmpPrivCoverage + wPctPublicCoverage + wPctWhite_Square + wPctBlack_Cube + wPctAsian + wPctOtherRace\", data=myData).fit()\n",
    "print(WLS.params)\n",
    "print(WLS.summary())"
   ]
  },
  {
   "cell_type": "markdown",
   "id": "f20f8f8d",
   "metadata": {},
   "source": [
    "Clearly the weighted model is better than the original model worked with due to the large increase of R squared. "
   ]
  },
  {
   "cell_type": "markdown",
   "id": "9d01c2a8",
   "metadata": {},
   "source": [
    "### FINDINGS"
   ]
  },
  {
   "cell_type": "markdown",
   "id": "ce2c28ca",
   "metadata": {},
   "source": [
    "   Based on the increased R squared, I do believe that the weighted model is better. It is also known that compared to OLS, a weighted model reduces effects of heteroscedasticity. It is also assumed to be more efficient than OLS. \n",
    "   \n",
    "   I'm actually surprised to see that povertyPercent isn't significant. I would have thought that it would have a much greater effect on mortality rate since it is known that those living in poverty tend to have a harder time with their health. The median income being significant goes along with my thoughts about poverty, and the sign of this parameter makes sense. It can be interpreted as 100 unit increase in the median income for the county would cause a 0.05 reduction in the cancer mortalities. Also, median age is seen to be statistically significant, and it's sign also makes sense. Basically, a 10 year increase in the median age would increase the cancer mortalities by 0.288 which makes sense because older people tend to have a harder time beating cancer. \n",
    "   \n",
    "   Interesting is the significance of the percentage of private coverage. This parameter shows that a 10% increase in the percent of county residents with private health coverage leads to a 9.6 reduction of cancer mortality. Makes sense because private health coverage is seen to be better than public health coverage. Furthermore on health coverage, a 10% increase in the percent of those with employee-provided health coverage actually would cause an increase in cancer mortality of 34.1; I don't actually understand why this would be the case since it is private health coverage. I would be interested to do further research on this. What does make sense though is the 27 unit increase in cancer mortality with a 10% increase in the percent of people with public coverage, again because it is seen to be not great. \n",
    "   \n",
    "   It can be seen that both the variables representing the white and black population are statistically significant. These results claim that a 10% increase in the squared percent of the white population reduces cancer mortality by 0.032. A 10% increase in the cubed percent of the black population reduces cancer mortality by 0.001. I would have expected one of these to be positive and one to be negative, but I suppose it can be interperted that a whiter population has an even lower cancer mortality rate than a black population. A 10% increase in the population of \"other race\" has the highest reduction in cancer mortality out of the statistically significant groups, being that it would cause a 22 unit reduction. \n",
    "   \n",
    "   Overall, the study is claiming that a county with a population that is majority young, wealthy, with private health insurance and considered \"other race\" will have the lowest cancer related mortalities. \n",
    "   \n",
    "   Since WLS conducts parameter estimation by minimizing the sum of squared errors, it is somewhat delicate when it comes outliers. Basically, it is not very robust if outliers were to be introduced. If there were known outliers that weren't removed from the data, a different more robust method would need to be utilized for the regression because WLS is not equipped to stand up to them. The least squares methods as a whole are not very robust."
   ]
  },
  {
   "cell_type": "markdown",
   "id": "f8bf7971",
   "metadata": {},
   "source": [
    "### Conclusion"
   ]
  },
  {
   "cell_type": "markdown",
   "id": "22eed3d3",
   "metadata": {},
   "source": [
    "From this analysis, it can be seen that a weighted model is better than OLS in order to help reduce the effects of heteroscedasticity. This will provide more efficient estimates and I'm pretty sure that because I did not randomly choose a weight but I used FGLS to obtain the weight, the estimates are less biased (or even unbiased) than OLS estimates. I do recognize though that there is still plenty of improvement to my model, perhaps taking out some variables, or including more (hopefully without at the cost of precision). Also, it could be useful to not use the square or cube of some factors, but just the values themselves. With modeling, there is a lot of trial and error. This is the model I was most confident with though. \n",
    "\n",
    "In the future, questions about the type of health coverage that actually has more of an effect could be researched. As mentioned above, I find it strange the just because the private insurance was provided by an employee, it caused a reduction. I would like to know why this is the case. I would also like to know why an increase in any of the races (except asian because it was not seen to be statistically significant) caused a reduction in the mortality. It seems to me that at least one of them would cause an increase, but all we're seeing is a larger reduction vs a smaller reduction, which is still of interest. Furthermore, this dataset included information about highschool and colleges, but I think it would be even more interesting to include information of private educaiton. This would help researchers know that if a private education environment has some sort of effect. These variables would though obviously be connected to income, but to still have a model with just education could be interesting. Lastly, I think the inclusion of variables representing alcoholism, substance abuse, and even air quality would be a more scientific approach to the data. These would help draw conclusions about the hopeful prevention of cancer and not just the mere facts (that are somewhat uncontrollable, i.e. race) of cancer mortality. "
   ]
  }
 ],
 "metadata": {
  "kernelspec": {
   "display_name": "Python 3 (ipykernel)",
   "language": "python",
   "name": "python3"
  },
  "language_info": {
   "codemirror_mode": {
    "name": "ipython",
    "version": 3
   },
   "file_extension": ".py",
   "mimetype": "text/x-python",
   "name": "python",
   "nbconvert_exporter": "python",
   "pygments_lexer": "ipython3",
   "version": "3.9.7"
  }
 },
 "nbformat": 4,
 "nbformat_minor": 5
}
